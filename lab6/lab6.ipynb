{
 "cells": [
  {
   "cell_type": "markdown",
   "metadata": {},
   "source": [
    "# Class"
   ]
  },
  {
   "cell_type": "code",
   "execution_count": 2,
   "metadata": {},
   "outputs": [],
   "source": [
    "class GamingWallet:\n",
    "    def __init__(self, username: str, initial_balance: float = 0.0):\n",
    "        if initial_balance < 0:\n",
    "            raise ValueError(\"initial balance cant be negative\")\n",
    "        self.username = username\n",
    "        self.balance = initial_balance\n",
    "\n",
    "    def addCredits(self, amount: float) -> None:\n",
    "        if amount <= 0:\n",
    "            raise ValueError(\"amount to add must be more than 0\")\n",
    "        self.balance += amount\n",
    "\n",
    "    def useCredits(self, amount: float) -> None:\n",
    "        if amount <= 0:\n",
    "            raise ValueError(\"amount to use must be more than 0\")\n",
    "        if amount > self.balance:\n",
    "            raise ValueError(\"not enough credits\")\n",
    "        self.balance -= amount\n",
    "\n",
    "    def getBalance(self) -> float:\n",
    "        return self.balance"
   ]
  },
  {
   "cell_type": "markdown",
   "metadata": {},
   "source": [
    "# Unit tests"
   ]
  },
  {
   "cell_type": "code",
   "execution_count": 6,
   "metadata": {},
   "outputs": [
    {
     "name": "stderr",
     "output_type": "stream",
     "text": [
      "test_add_credits_positive (__main__.TestGamingWallet.test_add_credits_positive) ... ok\n",
      "test_add_credits_zero_or_negative (__main__.TestGamingWallet.test_add_credits_zero_or_negative) ... ok\n",
      "test_balance_after_operations (__main__.TestGamingWallet.test_balance_after_operations) ... ok\n",
      "test_initial_balance_negative (__main__.TestGamingWallet.test_initial_balance_negative) ... ok\n",
      "test_initial_balance_positive (__main__.TestGamingWallet.test_initial_balance_positive) ... ok\n",
      "test_initial_balance_zero (__main__.TestGamingWallet.test_initial_balance_zero) ... ok\n",
      "test_mock_example (__main__.TestGamingWallet.test_mock_example) ... ok\n",
      "test_use_credits_insufficient_funds (__main__.TestGamingWallet.test_use_credits_insufficient_funds) ... ok\n",
      "test_use_credits_successful (__main__.TestGamingWallet.test_use_credits_successful) ... ok\n",
      "test_use_credits_zero_or_negative (__main__.TestGamingWallet.test_use_credits_zero_or_negative) ... ok\n",
      "\n",
      "----------------------------------------------------------------------\n",
      "Ran 10 tests in 0.015s\n",
      "\n",
      "OK\n"
     ]
    }
   ],
   "source": [
    "import unittest\n",
    "from unittest.mock import patch\n",
    "\n",
    "class TestGamingWallet(unittest.TestCase):\n",
    "    def test_initial_balance_positive(self):\n",
    "        wallet = GamingWallet(\"gamer1\", 100.0)\n",
    "        self.assertEqual(wallet.getBalance(), 100.0)\n",
    "\n",
    "    def test_initial_balance_zero(self):\n",
    "        wallet = GamingWallet(\"gamer2\")\n",
    "        self.assertEqual(wallet.getBalance(), 0.0)\n",
    "\n",
    "    def test_initial_balance_negative(self):\n",
    "        with self.assertRaises(ValueError) as context:\n",
    "            GamingWallet(\"gamer3\", -50.0)\n",
    "        self.assertEqual(str(context.exception), \"initial balance cant be negative\")\n",
    "\n",
    "\n",
    "    def test_add_credits_positive(self):\n",
    "        wallet = GamingWallet(\"gamer1\", 50.0)\n",
    "        wallet.addCredits(25.0)\n",
    "        self.assertEqual(wallet.getBalance(), 75.0)\n",
    "\n",
    "    def test_add_credits_zero_or_negative(self):\n",
    "        wallet = GamingWallet(\"gamer1\", 50.0)\n",
    "        with self.assertRaises(ValueError) as context:\n",
    "            wallet.addCredits(0.0)\n",
    "        self.assertEqual(str(context.exception), \"amount to add must be more than 0\")\n",
    "        \n",
    "        with self.assertRaises(ValueError) as context:\n",
    "            wallet.addCredits(-10.0)\n",
    "        self.assertEqual(str(context.exception), \"amount to add must be more than 0\")\n",
    "\n",
    "    def test_use_credits_successful(self):\n",
    "        wallet = GamingWallet(\"gamer1\", 100.0)\n",
    "        wallet.useCredits(40.0)\n",
    "        self.assertEqual(wallet.getBalance(), 60.0)\n",
    "\n",
    "    def test_use_credits_insufficient_funds(self):\n",
    "        wallet = GamingWallet(\"gamer1\", 30.0)\n",
    "        with self.assertRaises(ValueError) as context:\n",
    "            wallet.useCredits(50.0)\n",
    "        self.assertEqual(str(context.exception), \"not enough credits\")\n",
    "\n",
    "    def test_use_credits_zero_or_negative(self):\n",
    "        wallet = GamingWallet(\"gamer1\", 50.0)\n",
    "        with self.assertRaises(ValueError) as context:\n",
    "            wallet.useCredits(0.0)\n",
    "        self.assertEqual(str(context.exception), \"amount to use must be more than 0\")\n",
    "\n",
    "        with self.assertRaises(ValueError) as context:\n",
    "            wallet.useCredits(-20.0)\n",
    "        self.assertEqual(str(context.exception), \"amount to use must be more than 0\")\n",
    "\n",
    "    def test_balance_after_operations(self):\n",
    "        wallet = GamingWallet(\"gamer1\", 50.0)\n",
    "        wallet.addCredits(50.0)\n",
    "        wallet.useCredits(30.0)\n",
    "        self.assertEqual(wallet.getBalance(), 70.0)\n",
    "\n",
    "    @patch(\"builtins.print\")\n",
    "    def test_mock_example(self, mock_print):\n",
    "        wallet = GamingWallet(\"gamer1\", 20.0)\n",
    "        wallet.addCredits(10.0)\n",
    "        print(f\"balance updated: {wallet.getBalance()}\")\n",
    "        mock_print.assert_called_with(\"balance updated: 30.0\")\n",
    "\n",
    "if __name__ == \"__main__\":\n",
    "    unittest.main(argv=[''], verbosity=2, exit=False)"
   ]
  }
 ],
 "metadata": {
  "kernelspec": {
   "display_name": "Python 3",
   "language": "python",
   "name": "python3"
  },
  "language_info": {
   "codemirror_mode": {
    "name": "ipython",
    "version": 3
   },
   "file_extension": ".py",
   "mimetype": "text/x-python",
   "name": "python",
   "nbconvert_exporter": "python",
   "pygments_lexer": "ipython3",
   "version": "3.12.6"
  }
 },
 "nbformat": 4,
 "nbformat_minor": 2
}
