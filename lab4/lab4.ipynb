{
 "cells": [
  {
   "cell_type": "markdown",
   "metadata": {},
   "source": [
    "# Strategy"
   ]
  },
  {
   "cell_type": "code",
   "execution_count": 20,
   "metadata": {},
   "outputs": [
    {
     "name": "stdout",
     "output_type": "stream",
     "text": [
      "Paid 15 using cash\n",
      "Paid 199.99 using card\n",
      "Paid 1000 using cryptocurrency\n"
     ]
    }
   ],
   "source": [
    "class PaymentStrategy:\n",
    "    def pay(self, amount):\n",
    "        pass\n",
    "\n",
    "class CashPayment(PaymentStrategy):\n",
    "    def pay(self, amount):\n",
    "        print(f\"Paid {amount} using cash\")\n",
    "\n",
    "class CardPayment(PaymentStrategy):\n",
    "    def pay(self, amount):\n",
    "        print(f\"Paid {amount} using card\")\n",
    "\n",
    "class CryptoPayment(PaymentStrategy):\n",
    "    def pay(self, amount):\n",
    "        print(f\"Paid {amount} using cryptocurrency\")\n",
    "\n",
    "class PaymentProcessor:\n",
    "    def __init__(self, strategy):\n",
    "        self.strategy = strategy\n",
    "\n",
    "    def set_strategy(self, strategy):\n",
    "        self.strategy = strategy\n",
    "\n",
    "    def process_payment(self, amount):\n",
    "        self.strategy.pay(amount)\n",
    "\n",
    "if __name__ == \"__main__\":\n",
    "    processor = PaymentProcessor(CashPayment())\n",
    "    processor.process_payment(15)\n",
    "\n",
    "    processor.set_strategy(CardPayment())\n",
    "    processor.process_payment(199.99)\n",
    "\n",
    "    processor.set_strategy(CryptoPayment())\n",
    "    processor.process_payment(1000)"
   ]
  },
  {
   "cell_type": "markdown",
   "metadata": {},
   "source": [
    "# Responsibility chain"
   ]
  },
  {
   "cell_type": "code",
   "execution_count": 21,
   "metadata": {},
   "outputs": [
    {
     "name": "stdout",
     "output_type": "stream",
     "text": [
      "Processing Order 1:\n",
      "Order 1: Payment received\n",
      "Order 1: Cooking the order\n",
      "Order 1: Packaging the order\n",
      "Order 1: Your order is ready\n",
      "\n",
      "Processing Order 2:\n",
      "Order 2: Waiting for payment\n"
     ]
    }
   ],
   "source": [
    "class Order:\n",
    "    def __init__(self, order_id, payment_complete=False, cooked=False, packaged=False):\n",
    "        self.order_id = order_id\n",
    "        self.payment_complete = payment_complete\n",
    "        self.cooked = cooked\n",
    "        self.packaged = packaged\n",
    "\n",
    "class OrderHandler:\n",
    "    def __init__(self):\n",
    "        self.next_handler = None\n",
    "\n",
    "    def set_next_handler(self, handler):\n",
    "        self.next_handler = handler\n",
    "\n",
    "    def handle_order(self, order):\n",
    "        if self.next_handler:\n",
    "            self.next_handler.handle_order(order)\n",
    "\n",
    "class PaymentHandler(OrderHandler):\n",
    "    def handle_order(self, order):\n",
    "        if not order.payment_complete:\n",
    "            print(f\"Order {order.order_id}: Waiting for payment\")\n",
    "        else:\n",
    "            print(f\"Order {order.order_id}: Payment received\")\n",
    "            super().handle_order(order)\n",
    "\n",
    "class CookingHandler(OrderHandler):\n",
    "    def handle_order(self, order):\n",
    "        if not order.cooked:\n",
    "            print(f\"Order {order.order_id}: Cooking the order\")\n",
    "            order.cooked = True\n",
    "        else:\n",
    "            print(f\"Order {order.order_id}: Order already cooked\")\n",
    "        super().handle_order(order)\n",
    "\n",
    "class PackagingHandler(OrderHandler):\n",
    "    def handle_order(self, order):\n",
    "        if not order.packaged:\n",
    "            print(f\"Order {order.order_id}: Packaging the order\")\n",
    "            order.packaged = True\n",
    "        print(f\"Order {order.order_id}: Your order is ready\")\n",
    "\n",
    "\n",
    "payment_handler = PaymentHandler()\n",
    "cooking_handler = CookingHandler()\n",
    "packaging_handler = PackagingHandler()\n",
    "\n",
    "payment_handler.set_next_handler(cooking_handler)\n",
    "cooking_handler.set_next_handler(packaging_handler)\n",
    "\n",
    "order1 = Order(order_id=1, payment_complete=True)\n",
    "order2 = Order(order_id=2, payment_complete=False)\n",
    "\n",
    "print(\"Processing Order 1:\")\n",
    "payment_handler.handle_order(order1)\n",
    "print(\"\\nProcessing Order 2:\")\n",
    "payment_handler.handle_order(order2)"
   ]
  },
  {
   "cell_type": "markdown",
   "metadata": {},
   "source": [
    "# Iterator"
   ]
  },
  {
   "cell_type": "code",
   "execution_count": 23,
   "metadata": {},
   "outputs": [
    {
     "name": "stdout",
     "output_type": "stream",
     "text": [
      "1\n",
      "2\n",
      "3\n",
      "4\n",
      "5\n"
     ]
    }
   ],
   "source": [
    "class ArrayIterator:\n",
    "    def __init__(self, items):\n",
    "        self.items = items\n",
    "        self.position = 0\n",
    "\n",
    "    def hasnext(self):\n",
    "        return self.position < len(self.items)\n",
    "\n",
    "    def next(self):\n",
    "        if self.hasnext():\n",
    "            item = self.items[self.position]\n",
    "            self.position += 1\n",
    "            return item\n",
    "        else:\n",
    "            raise StopIteration(\"no more elements left\")\n",
    "\n",
    "items = [1, 2, 3, 4, 5]\n",
    "iterator = ArrayIterator(items)\n",
    "\n",
    "while iterator.hasnext():\n",
    "    print(iterator.next())"
   ]
  }
 ],
 "metadata": {
  "kernelspec": {
   "display_name": "Python 3",
   "language": "python",
   "name": "python3"
  },
  "language_info": {
   "codemirror_mode": {
    "name": "ipython",
    "version": 3
   },
   "file_extension": ".py",
   "mimetype": "text/x-python",
   "name": "python",
   "nbconvert_exporter": "python",
   "pygments_lexer": "ipython3",
   "version": "3.12.6"
  }
 },
 "nbformat": 4,
 "nbformat_minor": 2
}
