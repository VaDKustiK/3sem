{
 "cells": [
  {
   "cell_type": "markdown",
   "metadata": {},
   "source": [
    "# Proxy"
   ]
  },
  {
   "cell_type": "code",
   "execution_count": 26,
   "metadata": {},
   "outputs": [
    {
     "name": "stdout",
     "output_type": "stream",
     "text": [
      "access denied\n",
      "executing query: SELECT * FROM users\n"
     ]
    }
   ],
   "source": [
    "from abc import ABC, abstractmethod\n",
    "\n",
    "class Database(ABC):\n",
    "    @abstractmethod\n",
    "    def query(self, sql: str) -> None:\n",
    "        pass\n",
    "\n",
    "class RealDatabase(Database):\n",
    "    def query(self, sql: str) -> None:\n",
    "        print(f\"executing query: {sql}\")\n",
    "\n",
    "class DatabaseProxy(Database):\n",
    "    def __init__(self, has_access: bool):\n",
    "        self.real_database = RealDatabase()\n",
    "        self.has_access = has_access\n",
    "\n",
    "    def query(self, sql: str) -> None:\n",
    "        if self.has_access:\n",
    "            self.real_database.query(sql)\n",
    "        else:\n",
    "            print(\"access denied\")\n",
    "\n",
    "if __name__ == \"__main__\":\n",
    "    user_db = DatabaseProxy(has_access=False)\n",
    "    admin_db = DatabaseProxy(has_access=True)\n",
    "\n",
    "    user_db.query(\"SELECT * FROM users\")\n",
    "    admin_db.query(\"SELECT * FROM users\")"
   ]
  },
  {
   "cell_type": "markdown",
   "metadata": {},
   "source": [
    "# Adapter"
   ]
  },
  {
   "cell_type": "code",
   "execution_count": 27,
   "metadata": {},
   "outputs": [
    {
     "name": "stdout",
     "output_type": "stream",
     "text": [
      "making a payment of 999.99 rub through the adapter:\n",
      "adapting payment interface...\n",
      "processing payment of 999.99 rub via SberPay\n"
     ]
    }
   ],
   "source": [
    "from abc import ABC, abstractmethod\n",
    "\n",
    "class PaymentProcessor(ABC):\n",
    "    @abstractmethod\n",
    "    def process_payment(self, amount: float) -> None:\n",
    "        pass\n",
    "\n",
    "class SberPay:\n",
    "    def make_payment(self, currency: str, value: float) -> None:\n",
    "        print(f\"processing payment of {value} {currency} via SberPay\")\n",
    "\n",
    "class PaymentAdapter(PaymentProcessor):\n",
    "    def __init__(self, sberpay: SberPay):\n",
    "        self.sberpay = sberpay\n",
    "\n",
    "    def process_payment(self, amount: float) -> None:\n",
    "        print(\"adapting payment interface...\")\n",
    "        self.sberpay.make_payment(\"rub\", amount)\n",
    "\n",
    "if __name__ == \"__main__\":\n",
    "    online_payment = SberPay()\n",
    "    adapter = PaymentAdapter(online_payment)\n",
    "\n",
    "    print(\"making a payment of 999.99 rub through the adapter:\")\n",
    "    adapter.process_payment(999.99)"
   ]
  },
  {
   "cell_type": "markdown",
   "metadata": {},
   "source": [
    "# Bridge"
   ]
  },
  {
   "cell_type": "code",
   "execution_count": 33,
   "metadata": {},
   "outputs": [
    {
     "name": "stdout",
     "output_type": "stream",
     "text": [
      "sending alerts:\n",
      "email: ALERT: this is an email\n",
      "SMS: ALERT: this is an SMS\n",
      "\n",
      "sending spam:\n",
      "email: SPAM: 99% off on everything u want!!!!!\n",
      "SMS: SPAM: black friday sales!!!\n"
     ]
    }
   ],
   "source": [
    "from abc import ABC, abstractmethod\n",
    "\n",
    "class NotiSender(ABC):\n",
    "    @abstractmethod\n",
    "    def send(self, message: str) -> None:\n",
    "        pass\n",
    "\n",
    "class EmailSender(NotiSender):\n",
    "    def send(self, message: str) -> None:\n",
    "        print(f\"email: {message}\")\n",
    "\n",
    "class SMSSender(NotiSender):\n",
    "    def send(self, message: str) -> None:\n",
    "        print(f\"SMS: {message}\")\n",
    "\n",
    "class Notification(ABC):\n",
    "    def __init__(self, sender: NotiSender):\n",
    "        self.sender = sender\n",
    "    @abstractmethod\n",
    "    def notify(self, content: str) -> None:\n",
    "        pass\n",
    "\n",
    "class AlertNoti(Notification):\n",
    "    def notify(self, content: str) -> None:\n",
    "        self.sender.send(f\"ALERT: {content}\")\n",
    "\n",
    "class SpamNoti(Notification):\n",
    "    def notify(self, content: str) -> None:\n",
    "        self.sender.send(f\"SPAM: {content}\")\n",
    "\n",
    "if __name__ == \"__main__\":\n",
    "    email_sender = EmailSender()\n",
    "    sms_sender = SMSSender()\n",
    "\n",
    "    alert_email = AlertNoti(email_sender)\n",
    "    alert_sms = AlertNoti(sms_sender)\n",
    "\n",
    "    spam_email = SpamNoti(email_sender)\n",
    "    spam_sms = SpamNoti(sms_sender)\n",
    "\n",
    "    print(\"sending alerts:\")\n",
    "    alert_email.notify(\"this is an email\")\n",
    "    alert_sms.notify(\"this is an SMS\")\n",
    "\n",
    "    print(\"\\nsending spam:\")\n",
    "    spam_email.notify(\"99% off on everything u want!!!!!\")\n",
    "    spam_sms.notify(\"black friday sales!!!\")"
   ]
  }
 ],
 "metadata": {
  "kernelspec": {
   "display_name": "Python 3",
   "language": "python",
   "name": "python3"
  },
  "language_info": {
   "codemirror_mode": {
    "name": "ipython",
    "version": 3
   },
   "file_extension": ".py",
   "mimetype": "text/x-python",
   "name": "python",
   "nbconvert_exporter": "python",
   "pygments_lexer": "ipython3",
   "version": "3.12.6"
  }
 },
 "nbformat": 4,
 "nbformat_minor": 2
}
